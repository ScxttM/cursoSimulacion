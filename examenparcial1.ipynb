{
 "cells": [
  {
   "attachments": {},
   "cell_type": "markdown",
   "metadata": {},
   "source": [
    "<h2>Examen Parcial 2da parte</h2>\n",
    "<h3>Generación de números pseudoaleatorios <br>\n",
    "Método congruencial mixto</h3>"
   ]
  },
  {
   "cell_type": "code",
   "execution_count": 177,
   "metadata": {},
   "outputs": [],
   "source": [
    "import pandas as pd\n",
    "import matplotlib.pyplot as plt\n",
    "\n",
    "# Generador congruencial mixto\n",
    "def gcm(x): # x es la semilla\n",
    "    a = 16807  # Multiplicador\n",
    "    c = 18446744073709551603  # Incremento\n",
    "    m = 2**31-1  # Modulo\n",
    "    while True:\n",
    "        x = (a * x + c) % m\n",
    "        yield x\n",
    "\n",
    "def media(data):\n",
    "    sum = 0\n",
    "    for i in range(len(data)):\n",
    "        sum += data[i]\n",
    "    return sum / len(data)\n",
    "\n",
    "def varianza(data):\n",
    "    sum = 0\n",
    "    for i in range(len(data)):\n",
    "        sum += (data[i]) ** 2\n",
    "    return (sum / len(data)-1) - (len(data)*media(data)**2/(len(data)-1))\n",
    "\n",
    "\n",
    "def lanzarDados(n):\n",
    "    resultados = []  # Lista vacia\n",
    "    resultadosDado1 = []  # Lista vacia para guardar los resultados del dado 1\n",
    "    resultadosDado2 = []  # Lista vacia para guardar los resultados del dado 2\n",
    "    random = gcm(120871089547)  # Generador de numeros aleatorios \n",
    "\n",
    "    # Genera n resultados aleatorios\n",
    "    for i in range(n):\n",
    "        dado1 = next(random)%6+1\n",
    "        dado2 = next(random)%6+1\n",
    "        resultadosDado1.append(dado1)  # Guarda los resultados del dado 1\n",
    "        resultadosDado2.append(dado2)  # Guarda los resultados del dado 2\n",
    "        # Guarda la suma de los resultados de los dados\n",
    "        resultados.append(dado1+dado2)\n",
    "\n",
    "    # Retorna la lista de resultados\n",
    "    data = pd.DataFrame(resultados).rename(columns={0: 'Suma'}).join(pd.DataFrame(resultadosDado1).rename(\n",
    "        columns={0: 'Dado 1'})).join(pd.DataFrame(resultadosDado2).rename(columns={0: 'Dado 2'}))\n",
    "    data.index += 1\n",
    "    data.to_csv('resultados.csv')\n",
    "\n",
    "    # Genera una lista del conteo de cada resultado\n",
    "    dataResultados = pd.DataFrame(resultados).value_counts(\n",
    "    ).rename_axis('Resultados').reset_index(name='counts')\n",
    "    display(dataResultados)\n",
    "    dataResultados.sort_values(by=['Resultados'], inplace=True)\n",
    "\n",
    "    print(\"Media: \", media(dataResultados['counts']))\n",
    "    print(\"Varianza: \", varianza(dataResultados['counts']))\n",
    "    \n",
    "    # Grafica los resultados en un grafico de barras\n",
    "    dataResultados.plot(kind='bar', x='Resultados', y='counts',\n",
    "                        title='Resultados de ' + str(n) + ' lanzamientos de dos dados')\n",
    "    plt.show()\n",
    "\n",
    "    # Grafica los resultados en un grafico de pastel\\\n",
    "    resultados = pd.Series(resultados).value_counts()\n",
    "    resultados.plot(\n",
    "        kind='pie',\n",
    "        autopct='%1.1f%%',\n",
    "        colors=['red', 'blue', 'green', 'yellow', 'orange',\n",
    "                'purple', 'pink', 'brown', 'gray', 'black', 'white', 'cyan'],\n",
    "        title='Resultados de ' + str(n) + ' lanzamientos de dos dados'),\n",
    "    plt.show()\n",
    "\n"
   ]
  },
  {
   "cell_type": "code",
   "execution_count": 178,
   "metadata": {},
   "outputs": [
    {
     "data": {
      "text/html": [
       "<div>\n",
       "<style scoped>\n",
       "    .dataframe tbody tr th:only-of-type {\n",
       "        vertical-align: middle;\n",
       "    }\n",
       "\n",
       "    .dataframe tbody tr th {\n",
       "        vertical-align: top;\n",
       "    }\n",
       "\n",
       "    .dataframe thead th {\n",
       "        text-align: right;\n",
       "    }\n",
       "</style>\n",
       "<table border=\"1\" class=\"dataframe\">\n",
       "  <thead>\n",
       "    <tr style=\"text-align: right;\">\n",
       "      <th></th>\n",
       "      <th>Resultados</th>\n",
       "      <th>counts</th>\n",
       "    </tr>\n",
       "  </thead>\n",
       "  <tbody>\n",
       "    <tr>\n",
       "      <th>0</th>\n",
       "      <td>7</td>\n",
       "      <td>1057</td>\n",
       "    </tr>\n",
       "    <tr>\n",
       "      <th>1</th>\n",
       "      <td>6</td>\n",
       "      <td>882</td>\n",
       "    </tr>\n",
       "    <tr>\n",
       "      <th>2</th>\n",
       "      <td>8</td>\n",
       "      <td>784</td>\n",
       "    </tr>\n",
       "    <tr>\n",
       "      <th>3</th>\n",
       "      <td>9</td>\n",
       "      <td>667</td>\n",
       "    </tr>\n",
       "    <tr>\n",
       "      <th>4</th>\n",
       "      <td>5</td>\n",
       "      <td>638</td>\n",
       "    </tr>\n",
       "    <tr>\n",
       "      <th>5</th>\n",
       "      <td>10</td>\n",
       "      <td>509</td>\n",
       "    </tr>\n",
       "    <tr>\n",
       "      <th>6</th>\n",
       "      <td>4</td>\n",
       "      <td>477</td>\n",
       "    </tr>\n",
       "    <tr>\n",
       "      <th>7</th>\n",
       "      <td>11</td>\n",
       "      <td>337</td>\n",
       "    </tr>\n",
       "    <tr>\n",
       "      <th>8</th>\n",
       "      <td>3</td>\n",
       "      <td>320</td>\n",
       "    </tr>\n",
       "    <tr>\n",
       "      <th>9</th>\n",
       "      <td>12</td>\n",
       "      <td>169</td>\n",
       "    </tr>\n",
       "    <tr>\n",
       "      <th>10</th>\n",
       "      <td>2</td>\n",
       "      <td>160</td>\n",
       "    </tr>\n",
       "  </tbody>\n",
       "</table>\n",
       "</div>"
      ],
      "text/plain": [
       "    Resultados  counts\n",
       "0            7    1057\n",
       "1            6     882\n",
       "2            8     784\n",
       "3            9     667\n",
       "4            5     638\n",
       "5           10     509\n",
       "6            4     477\n",
       "7           11     337\n",
       "8            3     320\n",
       "9           12     169\n",
       "10           2     160"
      ]
     },
     "metadata": {},
     "output_type": "display_data"
    },
    {
     "name": "stdout",
     "output_type": "stream",
     "text": [
      "Media:  545.4545454545455\n",
      "Varianza:  47135.545454545354\n"
     ]
    },
    {
     "data": {
      "image/png": "[encoded data removed]",
      "text/plain": [
       "<Figure size 432x288 with 1 Axes>"
      ]
     },
     "metadata": {
      "needs_background": "light"
     },
     "output_type": "display_data"
    },
    {
     "data": {
      "image/png": "[encoded data removed]",
      "text/plain": [
       "<Figure size 432x288 with 1 Axes>"
      ]
     },
     "metadata": {},
     "output_type": "display_data"
    }
   ],
   "source": [
    "lanzarDados(6000)"
   ]
  }
 ],
 "metadata": {
  "kernelspec": {
   "display_name": "Python 3",
   "language": "python",
   "name": "python3"
  },
  "language_info": {
   "codemirror_mode": {
    "name": "ipython",
    "version": 3
   },
   "file_extension": ".py",
   "mimetype": "text/x-python",
   "name": "python",
   "nbconvert_exporter": "python",
   "pygments_lexer": "ipython3",
   "version": "3.10.2"
  },
  "orig_nbformat": 4
 },
 "nbformat": 4,
 "nbformat_minor": 2
}
