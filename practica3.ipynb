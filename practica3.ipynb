{
 "cells": [
  {
   "cell_type": "code",
   "execution_count": 7,
   "metadata": {},
   "outputs": [],
   "source": [
    "import pandas as pd"
   ]
  },
  {
   "cell_type": "code",
   "execution_count": 13,
   "metadata": {},
   "outputs": [
    {
     "name": "stdout",
     "output_type": "stream",
     "text": [
      "\n",
      "Practica 3\n",
      "Generacion de numeros pseudoaleatorios \n",
      "Metodo congruencial mixto\n",
      "\n"
     ]
    },
    {
     "data": {
      "text/html": [
       "<div>\n",
       "<style scoped>\n",
       "    .dataframe tbody tr th:only-of-type {\n",
       "        vertical-align: middle;\n",
       "    }\n",
       "\n",
       "    .dataframe tbody tr th {\n",
       "        vertical-align: top;\n",
       "    }\n",
       "\n",
       "    .dataframe thead th {\n",
       "        text-align: right;\n",
       "    }\n",
       "</style>\n",
       "<table border=\"1\" class=\"dataframe\">\n",
       "  <thead>\n",
       "    <tr style=\"text-align: right;\">\n",
       "      <th></th>\n",
       "      <th>Xn</th>\n",
       "    </tr>\n",
       "  </thead>\n",
       "  <tbody>\n",
       "    <tr>\n",
       "      <th>0</th>\n",
       "      <td>3</td>\n",
       "    </tr>\n",
       "    <tr>\n",
       "      <th>1</th>\n",
       "      <td>6</td>\n",
       "    </tr>\n",
       "    <tr>\n",
       "      <th>2</th>\n",
       "      <td>5</td>\n",
       "    </tr>\n",
       "    <tr>\n",
       "      <th>3</th>\n",
       "      <td>0</td>\n",
       "    </tr>\n",
       "    <tr>\n",
       "      <th>4</th>\n",
       "      <td>7</td>\n",
       "    </tr>\n",
       "    <tr>\n",
       "      <th>5</th>\n",
       "      <td>2</td>\n",
       "    </tr>\n",
       "    <tr>\n",
       "      <th>6</th>\n",
       "      <td>1</td>\n",
       "    </tr>\n",
       "  </tbody>\n",
       "</table>\n",
       "</div>"
      ],
      "text/plain": [
       "   Xn\n",
       "0   3\n",
       "1   6\n",
       "2   5\n",
       "3   0\n",
       "4   7\n",
       "5   2\n",
       "6   1"
      ]
     },
     "metadata": {},
     "output_type": "display_data"
    }
   ],
   "source": [
    "def congruencial(x0, a, c, m):\n",
    "    x = (a * x0 + c) % m\n",
    "    return x\n",
    "\n",
    "def generar_numeros_pseudoaleatorios(x0, a, c, m):\n",
    "    table = []\n",
    "    for i in range(1, m):\n",
    "        x0 = congruencial(x0, a, c, m)\n",
    "        table.append(x0)\n",
    "    display(pd.DataFrame(table, columns=[\"Xn\"]))\n",
    "\n",
    "print(\"\"\"\n",
    "Practica 3\n",
    "Generacion de numeros pseudoaleatorios \n",
    "Metodo congruencial mixto\n",
    "\"\"\")\n",
    "\n",
    "generar_numeros_pseudoaleatorios(4,5,7,8)\n",
    "\n",
    "generar_numeros_pseudoaleatorios\n",
    "\n",
    "# x0 = int(input(\"Semilla: \"))\n",
    "# a = int(input(\"Multiplicador: \"))\n",
    "# c = int(input(\"Incremento: \"))\n",
    "# m = int(input(\"Modulo: \"))\n",
    "# table = []\n",
    "\n",
    "# for i in range(1, m):\n",
    "#     x0 = congruencial(x0, a, c, m)\n",
    "#     table.append(x0)\n",
    "\n",
    "# display(pd.DataFrame(table, columns=[\"Xn\"]))\n"
   ]
  }
 ],
 "metadata": {
  "kernelspec": {
   "display_name": "Python 3",
   "language": "python",
   "name": "python3"
  },
  "language_info": {
   "codemirror_mode": {
    "name": "ipython",
    "version": 3
   },
   "file_extension": ".py",
   "mimetype": "text/x-python",
   "name": "python",
   "nbconvert_exporter": "python",
   "pygments_lexer": "ipython3",
   "version": "3.10.6"
  },
  "orig_nbformat": 4,
  "vscode": {
   "interpreter": {
    "hash": "f4fc7ca4c719ee9eb8edac784909fabba88213340fb42bb5c2706b56c0804c2a"
   }
  }
 },
 "nbformat": 4,
 "nbformat_minor": 2
}
