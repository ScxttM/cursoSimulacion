{
 "cells": [
  {
   "cell_type": "markdown",
   "metadata": {},
   "source": [
    "<h2>Práctica 3</h2>\n",
    "<h3>Generación de números pseudoaleatorios <br>\n",
    "Método congruencial mixto</h3>"
   ]
  },
  {
   "cell_type": "code",
   "execution_count": 15,
   "metadata": {},
   "outputs": [],
   "source": [
    "import pandas as pd\n",
    "\n",
    "def congruencial(x0, a, c, m):\n",
    "    x = (a * x0 + c) % m\n",
    "    return x\n",
    "\n",
    "def generar_numeros_pseudoaleatorios(x0, a, c, m, n):\n",
    "    table = []\n",
    "    for i in range(0, n):\n",
    "        x0 = congruencial(x0, a, c, m)\n",
    "        table.append(x0)\n",
    "    data = pd.DataFrame(table, columns=[\"Xn\"])\n",
    "    data.index += 1\n",
    "    # display(data)\n",
    "    data.to_csv(\"resultados_\"+ str(n) +\".csv\")\n",
    "    data.plot()"
   ]
  }
 ],
 "metadata": {
  "kernelspec": {
   "display_name": "Python 3",
   "language": "python",
   "name": "python3"
  },
  "language_info": {
   "codemirror_mode": {
    "name": "ipython",
    "version": 3
   },
   "file_extension": ".py",
   "mimetype": "text/x-python",
   "name": "python",
   "nbconvert_exporter": "python",
   "pygments_lexer": "ipython3",
   "version": "3.10.2"
  },
  "orig_nbformat": 4,
  "vscode": {
   "interpreter": {
    "hash": "9cbb33fb0dd98d60d7542c1e0a8ec9389a1bc71302aaca21e62e688716f63114"
   }
  }
 },
 "nbformat": 4,
 "nbformat_minor": 2
}
