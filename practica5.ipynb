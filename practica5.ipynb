{
 "cells": [
  {
   "cell_type": "code",
   "execution_count": 33,
   "metadata": {},
   "outputs": [],
   "source": [
    "import math\n",
    "import matplotlib.pyplot as plt\n",
    "import pandas as pd\n",
    "\n",
    "def calcular_velocidad_en_pendiente(angulo, tiempo_simulacion=20):\n",
    "    velocidad_actual = 0.0  # km/h\n",
    "    tiempo = 0.0  # segundos\n",
    "    gravedad = 9.81  # m/s^2\n",
    "    angulo_radianes = math.radians(angulo)\n",
    "    aceleracion = gravedad * math.sin(angulo_radianes)\n",
    "    resultados = [(tiempo, velocidad_actual)]\n",
    "\n",
    "    while tiempo < tiempo_simulacion:\n",
    "        tiempo += 1\n",
    "        velocidad_actual += aceleracion*tiempo\n",
    "        resultados.append((tiempo, velocidad_actual))\n",
    "    \n",
    "    data = pd.DataFrame(resultados, columns=['Tiempo (s)', 'Velocidad (km/h)'])\n",
    "    print(data)\n",
    "\n",
    "    plt.plot([x for x, y in resultados], [y for x, y in resultados])\n",
    "    plt.xlabel('Tiempo (s)')\n",
    "    plt.ylabel('Velocidad (km/h)')"
   ]
  },
  {
   "cell_type": "code",
   "execution_count": 37,
   "metadata": {},
   "outputs": [
    {
     "name": "stdout",
     "output_type": "stream",
     "text": [
      "    Tiempo (s)  Velocidad (km/h)\n",
      "0          0.0          0.000000\n",
      "1          1.0          0.684311\n",
      "2          2.0          2.052933\n",
      "3          3.0          4.105866\n",
      "4          4.0          6.843110\n",
      "5          5.0         10.264665\n",
      "6          6.0         14.370531\n",
      "7          7.0         19.160708\n",
      "8          8.0         24.635196\n",
      "9          9.0         30.793995\n",
      "10        10.0         37.637105\n",
      "11        11.0         45.164526\n",
      "12        12.0         53.376259\n",
      "13        13.0         62.272302\n",
      "14        14.0         71.852656\n",
      "15        15.0         82.117321\n",
      "16        16.0         93.066297\n",
      "17        17.0        104.699584\n",
      "18        18.0        117.017182\n",
      "19        19.0        130.019091\n",
      "20        20.0        143.705312\n"
     ]
    },
    {
     "data": {
      "image/png": "[encoded data removed]",
      "text/plain": [
       "<Figure size 432x288 with 1 Axes>"
      ]
     },
     "metadata": {
      "needs_background": "light"
     },
     "output_type": "display_data"
    }
   ],
   "source": [
    "calcular_velocidad_en_pendiente(4)"
   ]
  }
 ],
 "metadata": {
  "kernelspec": {
   "display_name": "Python 3",
   "language": "python",
   "name": "python3"
  },
  "language_info": {
   "codemirror_mode": {
    "name": "ipython",
    "version": 3
   },
   "file_extension": ".py",
   "mimetype": "text/x-python",
   "name": "python",
   "nbconvert_exporter": "python",
   "pygments_lexer": "ipython3",
   "version": "3.10.2"
  },
  "orig_nbformat": 4
 },
 "nbformat": 4,
 "nbformat_minor": 2
}
