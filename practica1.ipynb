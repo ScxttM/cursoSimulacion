{
 "cells": [
  {
   "cell_type": "code",
   "execution_count": 2,
   "metadata": {},
   "outputs": [],
   "source": [
    "import random\n",
    "import pandas as pd\n",
    "import numpy as np\n",
    "import matplotlib.pyplot as plt"
   ]
  },
  {
   "cell_type": "markdown",
   "metadata": {},
   "source": [
    "Lanzamiento de moneda"
   ]
  },
  {
   "cell_type": "code",
   "execution_count": 3,
   "metadata": {},
   "outputs": [],
   "source": [
    "def lanzarMoneda(n):\n",
    "    resultados = []\n",
    "    moneda = [0,1] # 0 aguila, 1 sello\n",
    "\n",
    "    for i in range(n):\n",
    "        resultados.append(random.choice(moneda))\n",
    "        \n",
    "    data = pd.DataFrame(resultados).rename(columns={0:'Resultados'})\n",
    "    data.replace({0:'Aguila', 1:'Sello'}, inplace=True)\n",
    "    data.index += 1\n",
    "    display(data)\n",
    "    \n",
    "    dataResultados = pd.DataFrame(resultados).value_counts().rename_axis('Resultados').reset_index(name='counts')\n",
    "    display(dataResultados)\n",
    "\n",
    "    pd.Series(resultados).value_counts().plot(\n",
    "        kind='pie', \n",
    "        autopct='%1.1f%%', \n",
    "        labels=['Aguila', 'Sello'], \n",
    "        colors=['red', 'blue'], \n",
    "        title='Resultados de '+ str(n) +' lanzamientos de una moneda'),\n",
    "    plt.show()"
   ]
  },
  {
   "cell_type": "markdown",
   "metadata": {},
   "source": [
    "Lanzamiento de un dado"
   ]
  },
  {
   "cell_type": "code",
   "execution_count": 4,
   "metadata": {},
   "outputs": [],
   "source": [
    "def lanzarDado(n):\n",
    "    resultados = []\n",
    "    dado = [1,2,3,4,5,6]\n",
    "\n",
    "    for i in range(n):\n",
    "        resultados.append(random.choice(dado))\n",
    "        \n",
    "    data = pd.DataFrame(resultados).rename(columns={0:'Resultados'})\n",
    "    data.index += 1\n",
    "    display(data)\n",
    "\n",
    "    dataResultados = pd.DataFrame(resultados).value_counts().rename_axis('Resultados').reset_index(name='counts')\n",
    "    display(dataResultados)\n",
    "\n",
    "    pd.Series(resultados).value_counts().plot(\n",
    "        kind='pie', \n",
    "        autopct='%1.1f%%', \n",
    "        colors=['red', 'blue', 'green', 'yellow', 'orange', 'purple'], \n",
    "        title='Resultados de '+ str(n) +' lanzamientos de un dado'),\n",
    "    plt.show()"
   ]
  },
  {
   "cell_type": "markdown",
   "metadata": {},
   "source": [
    "Lanzamiento de dos dados"
   ]
  },
  {
   "cell_type": "code",
   "execution_count": 5,
   "metadata": {},
   "outputs": [],
   "source": [
    "def lanzarDados(n):\n",
    "    resultados = []\n",
    "    dado = [1,2,3,4,5,6]\n",
    "    resultadosDado1 = []\n",
    "    resultadosDado2 = []\n",
    "    \n",
    "    for i in range(n):\n",
    "        dado1 = random.choice(dado)\n",
    "        dado2 = random.choice(dado)\n",
    "        resultadosDado1.append(dado1)\n",
    "        resultadosDado2.append(dado2)\n",
    "        resultados.append(dado1+dado2)\n",
    "    \n",
    "    data = pd.DataFrame(resultados).rename(columns={0: 'Suma'}).join(pd.DataFrame(resultadosDado1).rename(columns={0:'Dado 1'})).join(pd.DataFrame(resultadosDado2).rename(columns={0:'Dado 2'}))\n",
    "    data.index += 1\n",
    "    display(data)\n",
    "\n",
    "    dataResultados = pd.DataFrame(resultados).value_counts().rename_axis('Resultados').reset_index(name='counts')\n",
    "    display(dataResultados)\n",
    "    \n",
    "    pd.Series(resultados).value_counts().plot(\n",
    "        kind='pie',\n",
    "        autopct='%1.1f%%',\n",
    "        colors=['red', 'blue', 'green', 'yellow', 'orange', 'purple', 'pink', 'brown', 'gray', 'black', 'white'],\n",
    "        title = 'Resultados de '+ str(n) +' lanzamientos de dos dados'),\n",
    "    plt.show()"
   ]
  },
  {
   "cell_type": "markdown",
   "metadata": {},
   "source": [
    "Menu"
   ]
  },
  {
   "cell_type": "code",
   "execution_count": 6,
   "metadata": {},
   "outputs": [
    {
     "name": "stdout",
     "output_type": "stream",
     "text": [
      "\n",
      "Practica 1\n",
      "\n",
      "1. Lanzamiento de una moneda\n",
      "2. Lanzamiento de un dado\n",
      "3. Lanzamiento de dos dados\n",
      "\n"
     ]
    },
    {
     "data": {
      "text/html": [
       "<div>\n",
       "<style scoped>\n",
       "    .dataframe tbody tr th:only-of-type {\n",
       "        vertical-align: middle;\n",
       "    }\n",
       "\n",
       "    .dataframe tbody tr th {\n",
       "        vertical-align: top;\n",
       "    }\n",
       "\n",
       "    .dataframe thead th {\n",
       "        text-align: right;\n",
       "    }\n",
       "</style>\n",
       "<table border=\"1\" class=\"dataframe\">\n",
       "  <thead>\n",
       "    <tr style=\"text-align: right;\">\n",
       "      <th></th>\n",
       "      <th>Resultados</th>\n",
       "    </tr>\n",
       "  </thead>\n",
       "  <tbody>\n",
       "    <tr>\n",
       "      <th>1</th>\n",
       "      <td>Aguila</td>\n",
       "    </tr>\n",
       "  </tbody>\n",
       "</table>\n",
       "</div>"
      ],
      "text/plain": [
       "  Resultados\n",
       "1     Aguila"
      ]
     },
     "metadata": {},
     "output_type": "display_data"
    },
    {
     "data": {
      "text/html": [
       "<div>\n",
       "<style scoped>\n",
       "    .dataframe tbody tr th:only-of-type {\n",
       "        vertical-align: middle;\n",
       "    }\n",
       "\n",
       "    .dataframe tbody tr th {\n",
       "        vertical-align: top;\n",
       "    }\n",
       "\n",
       "    .dataframe thead th {\n",
       "        text-align: right;\n",
       "    }\n",
       "</style>\n",
       "<table border=\"1\" class=\"dataframe\">\n",
       "  <thead>\n",
       "    <tr style=\"text-align: right;\">\n",
       "      <th></th>\n",
       "      <th>Resultados</th>\n",
       "      <th>counts</th>\n",
       "    </tr>\n",
       "  </thead>\n",
       "  <tbody>\n",
       "    <tr>\n",
       "      <th>0</th>\n",
       "      <td>0</td>\n",
       "      <td>1</td>\n",
       "    </tr>\n",
       "  </tbody>\n",
       "</table>\n",
       "</div>"
      ],
      "text/plain": [
       "   Resultados  counts\n",
       "0           0       1"
      ]
     },
     "metadata": {},
     "output_type": "display_data"
    },
    {
     "data": {
      "image/png": "[encoded data removed]",
      "text/plain": [
       "<Figure size 640x480 with 1 Axes>"
      ]
     },
     "metadata": {},
     "output_type": "display_data"
    }
   ],
   "source": [
    "print(\"\"\"\n",
    "Practica 1\n",
    "\n",
    "1. Lanzamiento de una moneda\n",
    "2. Lanzamiento de un dado\n",
    "3. Lanzamiento de dos dados\n",
    "\"\"\")\n",
    "\n",
    "opcion = int(input(\"Elige una opcion: \"))\n",
    "\n",
    "numero = int(input(\"Numero de lanzamientos: \"))\n",
    "\n",
    "if(opcion == 1):\n",
    "    lanzarMoneda(numero)\n",
    "elif(opcion == 2):\n",
    "    lanzarDado(numero)\n",
    "elif(opcion == 3):\n",
    "    lanzarDados(numero)\n"
   ]
  }
 ],
 "metadata": {
  "kernelspec": {
   "display_name": "Python 3.10.6 64-bit",
   "language": "python",
   "name": "python3"
  },
  "language_info": {
   "codemirror_mode": {
    "name": "ipython",
    "version": 3
   },
   "file_extension": ".py",
   "mimetype": "text/x-python",
   "name": "python",
   "nbconvert_exporter": "python",
   "pygments_lexer": "ipython3",
   "version": "3.10.6"
  },
  "orig_nbformat": 4,
  "vscode": {
   "interpreter": {
    "hash": "f4fc7ca4c719ee9eb8edac784909fabba88213340fb42bb5c2706b56c0804c2a"
   }
  }
 },
 "nbformat": 4,
 "nbformat_minor": 2
}
