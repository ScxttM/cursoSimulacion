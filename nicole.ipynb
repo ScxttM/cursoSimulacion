{
 "cells": [
  {
   "cell_type": "code",
   "execution_count": 41,
   "metadata": {},
   "outputs": [
    {
     "name": "stdout",
     "output_type": "stream",
     "text": [
      "5e1771ae-a29e-4473-8df4-b54f1e16f240\n",
      "ID: 5e1771ae-a29e-4473-8df4-b54f1e16f240\n",
      "Marca: Nissan\n",
      "Modelo: Sentra\n",
      "Año: 2017\n",
      "Color: Azul\n",
      "Precio: 80000\n"
     ]
    }
   ],
   "source": [
    "import uuid\n",
    "\n",
    "class Carro:\n",
    "    def __init__(self, marca, modelo, year, color, precio):\n",
    "        self.id = uuid.uuid4()\n",
    "        self.marca = marca\n",
    "        self.modelo = modelo\n",
    "        self.year = year\n",
    "        self.color = color\n",
    "        self.precio = precio\n",
    "        \n",
    "    def __str__(self):\n",
    "        return f\"ID: {self.id}\\nMarca: {self.marca}\\nModelo: {self.modelo}\\nAño: {self.year}\\nColor: {self.color}\\nPrecio: {self.precio}\"\n",
    "    \n",
    "carros = []\n",
    "carros.append(Carro(\"Toyota\", \"Corolla\", 2019, \"Blanco\", 100000))\n",
    "carros.append(Carro(\"Honda\", \"Civic\", 2018, \"Rojo\", 90000))\n",
    "carros.append(Carro(\"Nissan\", \"Sentra\", 2017, \"Azul\", 80000))\n",
    "carros.append(Carro(\"Hyunday\", \"Elantra\", 2020, \"Plateado\", 110000))\n",
    "\n",
    "print(carros[2].id)\n",
    "\n",
    "id_carro = uuid.UUID(input(\"Ingrese el id del carro que desea comprar: \"))\n",
    "for carro in carros:\n",
    "    if carro.id == id_carro:\n",
    "        print(carro)\n",
    "        break\n",
    "\n"
   ]
  }
 ],
 "metadata": {
  "kernelspec": {
   "display_name": "Python 3",
   "language": "python",
   "name": "python3"
  },
  "language_info": {
   "codemirror_mode": {
    "name": "ipython",
    "version": 3
   },
   "file_extension": ".py",
   "mimetype": "text/x-python",
   "name": "python",
   "nbconvert_exporter": "python",
   "pygments_lexer": "ipython3",
   "version": "3.10.2"
  },
  "orig_nbformat": 4
 },
 "nbformat": 4,
 "nbformat_minor": 2
}
