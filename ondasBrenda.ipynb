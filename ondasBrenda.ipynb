{
 "cells": [
  {
   "cell_type": "code",
   "execution_count": 36,
   "metadata": {},
   "outputs": [],
   "source": [
    "import pandas as pd\n",
    "import matplotlib.pyplot as plt\n",
    "import numpy as np\n",
    "import math \n",
    "from numpy import pi, sin"
   ]
  },
  {
   "cell_type": "code",
   "execution_count": 37,
   "metadata": {},
   "outputs": [
    {
     "data": {
      "text/plain": [
       "[<matplotlib.lines.Line2D at 0x1e34ee88460>,\n",
       " <matplotlib.lines.Line2D at 0x1e34ee884c0>]"
      ]
     },
     "execution_count": 37,
     "metadata": {},
     "output_type": "execute_result"
    },
    {
     "data": {
      "image/png": "[encoded data removed]",
      "text/plain": [
       "<Figure size 432x288 with 1 Axes>"
      ]
     },
     "metadata": {
      "needs_background": "light"
     },
     "output_type": "display_data"
    }
   ],
   "source": [
    "c = 1 #velocidad de propagacion de la onda \n",
    "dt = 1 #intervalo de tiempo\n",
    "dx = 1 #intervalo de espacio\n",
    "tmax = 300 #tiempo maximo de simulacion\n",
    "L = 100 #longitud de la cuerda \n",
    "M = L/dx #numero de puntos en la cuerda\n",
    "r = c*dt/dx\n",
    "\n",
    "x = []\n",
    "for xt in range(0,L+dx,dx):\n",
    "  x = x + [xt]\n",
    "\n",
    "fold = []\n",
    "fnow = []\n",
    "fnew = []\n",
    "for i in range(len(x)):\n",
    "  fold = fold + [0]\n",
    "  fnow = fnow + [0]\n",
    "  fnew = fnew + [0]\n",
    "\n",
    "A = 0.1\n",
    "for i in range(len(x)):\n",
    "  fold[i] = A*np.sin(2*np.pi*x[i])\n",
    "  fnow[i] = A*np.sin(2*np.pi*x[i])\n",
    "  fnew[i] = A*np.sin(2*np.pi*x[i])\n",
    "\n",
    "\n",
    "t = 0\n",
    "while t < tmax:\n",
    "  fdata = []\n",
    "  for i in range(1, len(x)-1):\n",
    "    fnew[i] = 2*fnow[i]-fold[i]+r**2*(fnow[i+1]+fnow[i-1]-2*fnow[i])\n",
    "  #update old\n",
    "  for i in range(1, len(x)-1):\n",
    "    fold[i] = fnow[i]\n",
    "  #update new\n",
    "  for i in range(1, len(x)-1):\n",
    "    fnow[i] = fnew[i]\n",
    "  #graph\n",
    "  for i in range(len(x)):\n",
    "    fdata = fdata+[[x[i], fnew[i]]]\n",
    "  t = t + dt\n",
    "\n",
    "plt.plot(fdata)"
   ]
  },
  {
   "cell_type": "code",
   "execution_count": 55,
   "metadata": {},
   "outputs": [
    {
     "name": "stdout",
     "output_type": "stream",
     "text": [
      "(0, 1)\n"
     ]
    }
   ],
   "source": [
    "c = 1  # velocidad de propagacion de la onda\n",
    "dt = 0.01  # intervalo de tiempo\n",
    "dx = 0.01  # intervalo de espacio\n",
    "tmax = 3  # tiempo maximo de simulacion\n",
    "L = 1  # longitud de la cuerda\n",
    "M = L/dx  # numero de puntos en la cuerda\n",
    "r = c*dt/dx\n",
    "\n",
    "\n",
    "for n in range(0, tmax, dt):\n",
    "y = []\n",
    "prev = 0\n",
    "now = 0\n",
    "    for i in range(1,int(M)-1):\n",
    "        y = 2(1-r**2)*now-y[i-1]+r**2*(y[i+1]+y[i-1]-2*y[i])\n",
    "\n",
    "\n",
    "#    y = 2(1-r**2)*y[i]-y[i-1]+r**2*(y[i+1]+y[i-1]-2*y[i])"
   ]
  }
 ],
 "metadata": {
  "kernelspec": {
   "display_name": "Python 3",
   "language": "python",
   "name": "python3"
  },
  "language_info": {
   "codemirror_mode": {
    "name": "ipython",
    "version": 3
   },
   "file_extension": ".py",
   "mimetype": "text/x-python",
   "name": "python",
   "nbconvert_exporter": "python",
   "pygments_lexer": "ipython3",
   "version": "3.10.2"
  },
  "orig_nbformat": 4
 },
 "nbformat": 4,
 "nbformat_minor": 2
}
